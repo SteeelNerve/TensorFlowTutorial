{
  "nbformat": 4,
  "nbformat_minor": 0,
  "metadata": {
    "colab": {
      "name": "TensorFlowTutorial1.ipynb",
      "provenance": [],
      "collapsed_sections": [],
      "authorship_tag": "ABX9TyNImUlM4HO146b5Tvk3Udqq",
      "include_colab_link": true
    },
    "kernelspec": {
      "name": "python3",
      "display_name": "Python 3"
    }
  },
  "cells": [
    {
      "cell_type": "markdown",
      "metadata": {
        "id": "view-in-github",
        "colab_type": "text"
      },
      "source": [
        "<a href=\"https://colab.research.google.com/github/SteeelNerve/TensorFlowTutorial/blob/main/TensorFlowTutorial1.ipynb\" target=\"_parent\"><img src=\"https://colab.research.google.com/assets/colab-badge.svg\" alt=\"Open In Colab\"/></a>"
      ]
    },
    {
      "cell_type": "code",
      "metadata": {
        "id": "Jpt75rNuFdEZ",
        "outputId": "71ec14c8-1501-499d-c0ed-080d62a4e9e4",
        "colab": {
          "base_uri": "https://localhost:8080/"
        }
      },
      "source": [
        "%tensorflow_version 2.x  # this line is not required unless you are in a notebook\n",
        "# TensorFlow and tf.keras\n",
        "import tensorflow as tf\n",
        "from tensorflow import keras\n",
        "\n",
        "# Helper libraries\n",
        "import numpy as np\n",
        "import matplotlib.pyplot as plt"
      ],
      "execution_count": null,
      "outputs": [
        {
          "output_type": "stream",
          "text": [
            "`%tensorflow_version` only switches the major version: 1.x or 2.x.\n",
            "You set: `2.x  # this line is not required unless you are in a notebook`. This will be interpreted as: `2.x`.\n",
            "\n",
            "\n",
            "TensorFlow 2.x selected.\n"
          ],
          "name": "stdout"
        }
      ]
    },
    {
      "cell_type": "code",
      "metadata": {
        "id": "zbK4fMzRuCHg",
        "outputId": "60570d60-733f-4613-f44a-994347bc159e",
        "colab": {
          "base_uri": "https://localhost:8080/"
        }
      },
      "source": [
        "# Initialization of Tensors\n",
        "x = tf.constant(4, shape=(1, 1), dtype=tf.float32)\n",
        "x = tf.constant([[1,2,3], [4,5,6]])\n",
        "x = tf.ones((3,3))\n",
        "x = tf.eye(3) # identity matrix\n",
        "\n",
        "x = tf.random.normal((3,3),mean=0, stddev=1)\n",
        "x = tf.random.uniform((1,3), minval=0, maxval=1)\n",
        "x = tf.range(start=1, limit=10, delta=2)\n",
        "\n",
        "x = tf.cast(x, dtype=tf.float64)\n",
        "\n",
        "print(x)"
      ],
      "execution_count": null,
      "outputs": [
        {
          "output_type": "stream",
          "text": [
            "tf.Tensor([1. 3. 5. 7. 9.], shape=(5,), dtype=float64)\n"
          ],
          "name": "stdout"
        }
      ]
    },
    {
      "cell_type": "code",
      "metadata": {
        "id": "lYMe5PzCuY6X",
        "outputId": "450dedb7-7a51-4437-9581-a0f9e21112a2",
        "colab": {
          "base_uri": "https://localhost:8080/"
        }
      },
      "source": [
        "# Mathematical Operations\n",
        "x = tf.constant([1,2,3])\n",
        "y = tf.constant([9,8,7])\n",
        "\n",
        "z = tf.add(x,y)\n",
        "z = x + y\n",
        "\n",
        "z = tf.subtract(x,y)\n",
        "\n",
        "z = tf.tensordot(x,y,axes=1) # element multiplication and summation at the same time\n",
        "\n",
        "x = tf.random.normal((2,3))\n",
        "y = tf.random.normal((3,4))\n",
        "z = tf.matmul(x,y)\n",
        "print(z)\n",
        "z = x @ y\n",
        "print(z)"
      ],
      "execution_count": null,
      "outputs": [
        {
          "output_type": "stream",
          "text": [
            "tf.Tensor(\n",
            "[[ 0.8180007 -0.9333291  2.5262308 -0.1169112]\n",
            " [ 5.4395795 -1.0505962 -0.0277293 -1.1803695]], shape=(2, 4), dtype=float32)\n",
            "tf.Tensor(\n",
            "[[ 0.8180007 -0.9333291  2.5262308 -0.1169112]\n",
            " [ 5.4395795 -1.0505962 -0.0277293 -1.1803695]], shape=(2, 4), dtype=float32)\n"
          ],
          "name": "stdout"
        }
      ]
    },
    {
      "cell_type": "code",
      "metadata": {
        "id": "iZMcDGWN0QIf",
        "outputId": "872d145d-dc28-417f-8b23-a5ae2078413b",
        "colab": {
          "base_uri": "https://localhost:8080/"
        }
      },
      "source": [
        "# Indexing\n",
        "x = tf.constant([0,1,1,2,3,1,2,3])\n",
        "print(x[:])\n",
        "print(x[1:])\n",
        "print(x[1:3])\n",
        "print(x[::2])\n",
        "print(x[::-1])\n",
        "\n",
        "indices = tf.constant([0,3])\n",
        "x_ind = tf.gather(x,indices)\n",
        "\n",
        "x = tf.constant([[1,2], [3,4],[5,6]])\n",
        "\n",
        "print(x[0,:])"
      ],
      "execution_count": null,
      "outputs": [
        {
          "output_type": "stream",
          "text": [
            "tf.Tensor([0 1 1 2 3 1 2 3], shape=(8,), dtype=int32)\n",
            "tf.Tensor([1 1 2 3 1 2 3], shape=(7,), dtype=int32)\n",
            "tf.Tensor([1 1], shape=(2,), dtype=int32)\n",
            "tf.Tensor([0 1 3 2], shape=(4,), dtype=int32)\n",
            "tf.Tensor([3 2 1 3 2 1 1 0], shape=(8,), dtype=int32)\n",
            "tf.Tensor([1 2], shape=(2,), dtype=int32)\n"
          ],
          "name": "stdout"
        }
      ]
    },
    {
      "cell_type": "code",
      "metadata": {
        "id": "gUopL3ul4m82",
        "outputId": "b6e38e9b-f38d-43e3-ca98-dc98d5649ceb",
        "colab": {
          "base_uri": "https://localhost:8080/"
        }
      },
      "source": [
        "# Reshaping\n",
        "x = tf.range(9)\n",
        "print(x)\n",
        "\n",
        "x = tf.reshape(x,(3,3))\n",
        "x = tf.transpose(x, perm=[1,0])\n",
        "print(x)"
      ],
      "execution_count": null,
      "outputs": [
        {
          "output_type": "stream",
          "text": [
            "tf.Tensor([0 1 2 3 4 5 6 7 8], shape=(9,), dtype=int32)\n",
            "tf.Tensor(\n",
            "[[0 3 6]\n",
            " [1 4 7]\n",
            " [2 5 8]], shape=(3, 3), dtype=int32)\n"
          ],
          "name": "stdout"
        }
      ]
    }
  ]
}