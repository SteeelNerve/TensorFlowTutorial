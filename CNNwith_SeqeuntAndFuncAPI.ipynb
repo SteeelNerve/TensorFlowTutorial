{
  "nbformat": 4,
  "nbformat_minor": 0,
  "metadata": {
    "accelerator": "GPU",
    "colab": {
      "name": "CNNwith SeqeuntAndFuncAPI.ipynb",
      "provenance": [],
      "authorship_tag": "ABX9TyP03iOlFXJKeE3gi7e7VuH0",
      "include_colab_link": true
    },
    "kernelspec": {
      "display_name": "Python 3",
      "name": "python3"
    }
  },
  "cells": [
    {
      "cell_type": "markdown",
      "metadata": {
        "id": "view-in-github",
        "colab_type": "text"
      },
      "source": [
        "<a href=\"https://colab.research.google.com/github/SteeelNerve/TensorFlowTutorial/blob/main/CNNwith_SeqeuntAndFuncAPI.ipynb\" target=\"_parent\"><img src=\"https://colab.research.google.com/assets/colab-badge.svg\" alt=\"Open In Colab\"/></a>"
      ]
    },
    {
      "cell_type": "code",
      "metadata": {
        "id": "S2AY7FGlX7uP",
        "outputId": "d90b2ada-682f-466a-8d70-c1f88396a3cd",
        "colab": {
          "base_uri": "https://localhost:8080/"
        }
      },
      "source": [
        "%tensorflow_version 2.x  # this line is not required unless you are in a notebook\n",
        "# TensorFlow and tf.keras\n",
        "import tensorflow as tf\n",
        "from tensorflow import keras\n",
        "from tensorflow.keras import layers\n",
        "from tensorflow.keras.datasets import cifar10\n",
        "\n",
        "# Helper libraries\n",
        "import numpy as np\n",
        "import matplotlib.pyplot as plt"
      ],
      "execution_count": 1,
      "outputs": [
        {
          "output_type": "stream",
          "text": [
            "`%tensorflow_version` only switches the major version: 1.x or 2.x.\n",
            "You set: `2.x  # this line is not required unless you are in a notebook`. This will be interpreted as: `2.x`.\n",
            "\n",
            "\n",
            "TensorFlow 2.x selected.\n"
          ],
          "name": "stdout"
        }
      ]
    },
    {
      "cell_type": "code",
      "metadata": {
        "id": "XK7UkqqhgFhx"
      },
      "source": [
        "(x_train, y_train), (x_test, y_test) = cifar10.load_data()\n",
        "x_train = x_train.astype('float32') / 255.0\n",
        "x_test = x_test.astype('float32') / 255.0"
      ],
      "execution_count": 2,
      "outputs": []
    },
    {
      "cell_type": "code",
      "metadata": {
        "id": "m2r5AfttgoBV",
        "outputId": "1ecb8eb4-8a7b-4108-a649-7aa70447d890",
        "colab": {
          "base_uri": "https://localhost:8080/"
        }
      },
      "source": [
        "# Sequential API\n",
        "model = keras.Sequential([\n",
        "  keras.Input(shape=(32,32,3)),\n",
        "  layers.Conv2D(32, (3, 3), padding='valid', activation='relu'), # first goes number of filters, kernel, after padding with default valid parameter\n",
        "  layers.MaxPooling2D(pool_size=(2,2)), # (2,2) pool size is default argument\n",
        "  layers.Conv2D(64, 3, activation='relu'),\n",
        "  layers.Conv2D(128, 3, activation='relu'),\n",
        "  layers.Flatten(),\n",
        "  layers.Dense(64, activation='relu'),\n",
        "  layers.Dense(10)\n",
        "])\n",
        "\n",
        "print(model.summary())"
      ],
      "execution_count": 3,
      "outputs": [
        {
          "output_type": "stream",
          "text": [
            "Model: \"sequential\"\n",
            "_________________________________________________________________\n",
            "Layer (type)                 Output Shape              Param #   \n",
            "=================================================================\n",
            "conv2d (Conv2D)              (None, 30, 30, 32)        896       \n",
            "_________________________________________________________________\n",
            "max_pooling2d (MaxPooling2D) (None, 15, 15, 32)        0         \n",
            "_________________________________________________________________\n",
            "conv2d_1 (Conv2D)            (None, 13, 13, 64)        18496     \n",
            "_________________________________________________________________\n",
            "conv2d_2 (Conv2D)            (None, 11, 11, 128)       73856     \n",
            "_________________________________________________________________\n",
            "flatten (Flatten)            (None, 15488)             0         \n",
            "_________________________________________________________________\n",
            "dense (Dense)                (None, 64)                991296    \n",
            "_________________________________________________________________\n",
            "dense_1 (Dense)              (None, 10)                650       \n",
            "=================================================================\n",
            "Total params: 1,085,194\n",
            "Trainable params: 1,085,194\n",
            "Non-trainable params: 0\n",
            "_________________________________________________________________\n",
            "None\n"
          ],
          "name": "stdout"
        }
      ]
    },
    {
      "cell_type": "code",
      "metadata": {
        "id": "F5yTpSbEkXdg"
      },
      "source": [
        "# Functional API\n",
        "def my_model():\n",
        "    inputs = keras.Input(shape=(32, 32, 3))\n",
        "    x = layers.Conv2D(32, 3)(inputs)\n",
        "    x = layers.BatchNormalization()(x)\n",
        "    x = keras.activations.relu(x)\n",
        "    x = layers.MaxPooling2D()(x)\n",
        "    x = layers.Conv2D(64, 3)(x)\n",
        "    x = layers.BatchNormalization()(x)\n",
        "    x = keras.activations.relu(x)\n",
        "    x = layers.MaxPooling2D()(x)\n",
        "    x = layers.Conv2D(128, 3)(x)\n",
        "    x = layers.BatchNormalization()(x)\n",
        "    x = keras.activations.relu(x)\n",
        "    x = layers.Flatten()(x)\n",
        "    x = layers.Dense(64, activation=\"relu\")(x)\n",
        "    outputs = layers.Dense(10)(x)\n",
        "    model = keras.Model(inputs=inputs, outputs=outputs)\n",
        "    return model"
      ],
      "execution_count": 4,
      "outputs": []
    },
    {
      "cell_type": "code",
      "metadata": {
        "id": "k6Jf6dY5I_ZU",
        "outputId": "6c4fa1a3-6d47-45b5-d9bd-1beca95b8b53",
        "colab": {
          "base_uri": "https://localhost:8080/"
        }
      },
      "source": [
        "model = my_model() # For func API\n",
        "\n",
        "model.compile(\n",
        "    loss=keras.losses.SparseCategoricalCrossentropy(from_logits=True),\n",
        "    optimizer=keras.optimizers.Adam(lr=3e-4),\n",
        "    metrics=['accuracy'], \n",
        ")\n",
        "\n",
        "model.fit(x_train, y_train, batch_size=64, epochs=10, verbose=2)\n",
        "model.evaluate(x_test, y_test, batch_size=64, verbose=2)"
      ],
      "execution_count": 5,
      "outputs": [
        {
          "output_type": "stream",
          "text": [
            "Epoch 1/10\n",
            "782/782 - 4s - loss: 1.3347 - accuracy: 0.5229\n",
            "Epoch 2/10\n",
            "782/782 - 4s - loss: 0.9618 - accuracy: 0.6631\n",
            "Epoch 3/10\n",
            "782/782 - 4s - loss: 0.8077 - accuracy: 0.7185\n",
            "Epoch 4/10\n",
            "782/782 - 4s - loss: 0.6998 - accuracy: 0.7588\n",
            "Epoch 5/10\n",
            "782/782 - 4s - loss: 0.6198 - accuracy: 0.7854\n",
            "Epoch 6/10\n",
            "782/782 - 4s - loss: 0.5487 - accuracy: 0.8099\n",
            "Epoch 7/10\n",
            "782/782 - 4s - loss: 0.4885 - accuracy: 0.8314\n",
            "Epoch 8/10\n",
            "782/782 - 4s - loss: 0.4333 - accuracy: 0.8521\n",
            "Epoch 9/10\n",
            "782/782 - 4s - loss: 0.3795 - accuracy: 0.8707\n",
            "Epoch 10/10\n",
            "782/782 - 4s - loss: 0.3352 - accuracy: 0.8844\n",
            "157/157 - 0s - loss: 0.9187 - accuracy: 0.7153\n"
          ],
          "name": "stdout"
        },
        {
          "output_type": "execute_result",
          "data": {
            "text/plain": [
              "[0.9187325239181519, 0.7153000235557556]"
            ]
          },
          "metadata": {
            "tags": []
          },
          "execution_count": 5
        }
      ]
    }
  ]
}