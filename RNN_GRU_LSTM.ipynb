{
  "nbformat": 4,
  "nbformat_minor": 0,
  "metadata": {
    "colab": {
      "name": "RNN_GRU_LSTM.ipynb",
      "provenance": [],
      "collapsed_sections": [],
      "authorship_tag": "ABX9TyMzF/ITfwIlirtXIDPY1qwj",
      "include_colab_link": true
    },
    "kernelspec": {
      "name": "python3",
      "display_name": "Python 3"
    },
    "accelerator": "GPU"
  },
  "cells": [
    {
      "cell_type": "markdown",
      "metadata": {
        "id": "view-in-github",
        "colab_type": "text"
      },
      "source": [
        "<a href=\"https://colab.research.google.com/github/SteeelNerve/TensorFlowTutorial/blob/main/RNN_GRU_LSTM.ipynb\" target=\"_parent\"><img src=\"https://colab.research.google.com/assets/colab-badge.svg\" alt=\"Open In Colab\"/></a>"
      ]
    },
    {
      "cell_type": "code",
      "metadata": {
        "id": "7gwkb-h87KMs",
        "outputId": "110e2876-8241-49dc-e9fc-602b6dfea0c8",
        "colab": {
          "base_uri": "https://localhost:8080/"
        }
      },
      "source": [
        "%tensorflow_version 2.x  # this line is not required unless you are in a notebook\n",
        "# TensorFlow and tf.keras\n",
        "import tensorflow as tf\n",
        "from tensorflow import keras\n",
        "from tensorflow.keras import layers, regularizers\n",
        "from tensorflow.keras.datasets import mnist\n",
        "\n",
        "# Helper libraries\n",
        "import numpy as np\n",
        "import matplotlib.pyplot as plt"
      ],
      "execution_count": 1,
      "outputs": [
        {
          "output_type": "stream",
          "text": [
            "`%tensorflow_version` only switches the major version: 1.x or 2.x.\n",
            "You set: `2.x  # this line is not required unless you are in a notebook`. This will be interpreted as: `2.x`.\n",
            "\n",
            "\n",
            "TensorFlow 2.x selected.\n"
          ],
          "name": "stdout"
        }
      ]
    },
    {
      "cell_type": "code",
      "metadata": {
        "id": "rtYYO5RG7wrv"
      },
      "source": [
        "(x_train, y_train), (x_test, y_test) = mnist.load_data()\n",
        "x_train = x_train.astype(\"float32\") / 255.0\n",
        "x_test = x_test.astype('float32') / 255.0"
      ],
      "execution_count": 2,
      "outputs": []
    },
    {
      "cell_type": "code",
      "metadata": {
        "id": "SNdcijju8ve0",
        "outputId": "788d633e-8720-4c90-cb0e-4c022b7ea90f",
        "colab": {
          "base_uri": "https://localhost:8080/"
        }
      },
      "source": [
        "# RNN\n",
        "model = keras.Sequential()\n",
        "model.add(keras.Input(shape=(None, 28)))\n",
        "model.add(\n",
        "    layers.SimpleRNN(256, return_sequences=True, activation='tanh')\n",
        ")\n",
        "model.add(layers.SimpleRNN(256, activation='tanh'))\n",
        "model.add(layers.Dense(10))"
      ],
      "execution_count": 3,
      "outputs": [
        {
          "output_type": "stream",
          "text": [
            "Epoch 1/10\n",
            "938/938 - 30s - loss: 0.3009 - accuracy: 0.9102\n",
            "Epoch 2/10\n",
            "938/938 - 29s - loss: 0.1850 - accuracy: 0.9462\n",
            "Epoch 3/10\n",
            "938/938 - 29s - loss: 0.1620 - accuracy: 0.9536\n",
            "Epoch 4/10\n",
            "938/938 - 30s - loss: 0.1507 - accuracy: 0.9567\n",
            "Epoch 5/10\n",
            "938/938 - 30s - loss: 0.1439 - accuracy: 0.9580\n",
            "Epoch 6/10\n",
            "938/938 - 29s - loss: 0.1391 - accuracy: 0.9602\n",
            "Epoch 7/10\n",
            "938/938 - 29s - loss: 0.1324 - accuracy: 0.9611\n",
            "Epoch 8/10\n",
            "938/938 - 30s - loss: 0.1333 - accuracy: 0.9615\n",
            "Epoch 9/10\n",
            "938/938 - 29s - loss: 0.1307 - accuracy: 0.9617\n",
            "Epoch 10/10\n",
            "938/938 - 30s - loss: 0.1281 - accuracy: 0.9635\n",
            "157/157 - 1s - loss: 0.1684 - accuracy: 0.9529\n"
          ],
          "name": "stdout"
        },
        {
          "output_type": "execute_result",
          "data": {
            "text/plain": [
              "[0.1684231013059616, 0.9528999924659729]"
            ]
          },
          "metadata": {
            "tags": []
          },
          "execution_count": 3
        }
      ]
    },
    {
      "cell_type": "code",
      "metadata": {
        "id": "nkdlHlAoNxnW"
      },
      "source": [
        "# GRU\n",
        "model = keras.Sequential()\n",
        "model.add(keras.Input(shape=(None, 28)))\n",
        "model.add(\n",
        "    layers.GRU(256, return_sequences=True, activation='tanh')\n",
        ")\n",
        "model.add(layers.GRU(256, activation='tanh'))\n",
        "model.add(layers.Dense(10))"
      ],
      "execution_count": 4,
      "outputs": []
    },
    {
      "cell_type": "code",
      "metadata": {
        "id": "6W5gOYQyO65n"
      },
      "source": [
        "# LSTM\n",
        "model = keras.Sequential()\n",
        "model.add(keras.Input(shape=(None, 28)))\n",
        "model.add(\n",
        "    layers.LSTM(256, return_sequences=True, activation='tanh')\n",
        ")\n",
        "model.add(layers.LSTM(256, activation='tanh'))\n",
        "model.add(layers.Dense(10))"
      ],
      "execution_count": 6,
      "outputs": []
    },
    {
      "cell_type": "code",
      "metadata": {
        "id": "v1pDOW98PqXe"
      },
      "source": [
        "# bidirectional LSTM\n",
        "model = keras.Sequential()\n",
        "model.add(keras.Input(shape=(None, 28)))\n",
        "model.add(\n",
        "    layers.Bidirectional(\n",
        "        layers.LSTM(256, return_sequences=True, activation='tanh')\n",
        "    )\n",
        ")\n",
        "model.add(\n",
        "    layers.Bidirectional(\n",
        "        layers.LSTM(256, activation='tanh')\n",
        "    )\n",
        ")\n",
        "model.add(layers.Dense(10))"
      ],
      "execution_count": 9,
      "outputs": []
    },
    {
      "cell_type": "code",
      "metadata": {
        "id": "4VkZANX0Oy5k",
        "outputId": "905afae1-3c44-46fe-f7f6-03c911b06617",
        "colab": {
          "base_uri": "https://localhost:8080/"
        }
      },
      "source": [
        "model.compile(\n",
        "    loss=keras.losses.SparseCategoricalCrossentropy(from_logits=True),\n",
        "    optimizer=keras.optimizers.Adam(lr=0.001),\n",
        "    metrics=['accuracy']\n",
        ")\n",
        "\n",
        "model.fit(x_train, y_train, batch_size=64, epochs=10, verbose=2)\n",
        "model.evaluate(x_test, y_test, batch_size=64, verbose=2)"
      ],
      "execution_count": 10,
      "outputs": [
        {
          "output_type": "stream",
          "text": [
            "Epoch 1/10\n",
            "938/938 - 14s - loss: 0.2659 - accuracy: 0.9125\n",
            "Epoch 2/10\n",
            "938/938 - 14s - loss: 0.0765 - accuracy: 0.9765\n",
            "Epoch 3/10\n",
            "938/938 - 14s - loss: 0.0526 - accuracy: 0.9844\n",
            "Epoch 4/10\n",
            "938/938 - 13s - loss: 0.0396 - accuracy: 0.9879\n",
            "Epoch 5/10\n",
            "938/938 - 13s - loss: 0.0346 - accuracy: 0.9894\n",
            "Epoch 6/10\n",
            "938/938 - 13s - loss: 0.0277 - accuracy: 0.9916\n",
            "Epoch 7/10\n",
            "938/938 - 13s - loss: 0.0255 - accuracy: 0.9918\n",
            "Epoch 8/10\n",
            "938/938 - 13s - loss: 0.0221 - accuracy: 0.9929\n",
            "Epoch 9/10\n",
            "938/938 - 13s - loss: 0.0186 - accuracy: 0.9939\n",
            "Epoch 10/10\n",
            "938/938 - 14s - loss: 0.0146 - accuracy: 0.9954\n",
            "157/157 - 1s - loss: 0.0345 - accuracy: 0.9907\n"
          ],
          "name": "stdout"
        },
        {
          "output_type": "execute_result",
          "data": {
            "text/plain": [
              "[0.03453340008854866, 0.9907000064849854]"
            ]
          },
          "metadata": {
            "tags": []
          },
          "execution_count": 10
        }
      ]
    }
  ]
}